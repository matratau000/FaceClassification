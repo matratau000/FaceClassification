{
 "cells": [
  {
   "cell_type": "code",
   "execution_count": 4,
   "metadata": {},
   "outputs": [],
   "source": [
    "import numpy as np\n",
    "import pandas as pd\n",
    "from sklearn.neighbors import KNeighborsClassifier\n",
    "from sklearn.tree import DecisionTreeClassifier\n",
    "from sklearn.metrics import (\n",
    "    confusion_matrix,\n",
    "    precision_score,\n",
    "    recall_score,\n",
    "    accuracy_score,\n",
    ")\n",
    "from scipy.spatial import distance\n",
    "from sklearn.model_selection import train_test_split\n",
    "import matplotlib.pyplot as plt\n",
    "import glob\n",
    "import os"
   ]
  },
  {
   "cell_type": "code",
   "execution_count": 6,
   "metadata": {},
   "outputs": [
    {
     "name": "stdout",
     "output_type": "stream",
     "text": [
      "40 40\n",
      "[[328.444 275.496]\n",
      " [434.921 275.029]\n",
      " [331.713 401.121]\n",
      " [427.449 400.187]\n",
      " [271.936 270.826]\n",
      " [356.464 254.014]\n",
      " [388.221 255.882]\n",
      " [494.698 268.491]\n",
      " [263.997 274.095]\n",
      " [301.825 277.831]\n",
      " [349.459 277.364]\n",
      " [411.104 278.298]\n",
      " [459.673 277.831]\n",
      " [515.246 276.897]\n",
      " [368.606 340.41 ]\n",
      " [355.53  351.151]\n",
      " [391.957 350.217]\n",
      " [374.253 395.527]\n",
      " [374.253 416.925]\n",
      " [373.276 483.314]\n",
      " [280.342 404.39 ]\n",
      " [499.835 402.522]]\n"
     ]
    }
   ],
   "source": [
    "import numpy as np\n",
    "import os\n",
    "import glob\n",
    "\n",
    "\n",
    "# Function to parse .pts files and extract facial landmarks coordinates\n",
    "def parse_pts_file(file_path):\n",
    "    with open(file_path, \"r\") as file:\n",
    "        lines = file.readlines()\n",
    "        start = lines.index(\"{\\n\") + 1\n",
    "        end = lines.index(\"}\\n\", start)\n",
    "        points = [tuple(map(float, line.strip().split())) for line in lines[start:end]]\n",
    "    return np.array(points)\n",
    "\n",
    "\n",
    "# Function to load data from the directory structure\n",
    "def load_data(base_path):\n",
    "    features = []\n",
    "    labels = []\n",
    "\n",
    "    # Search for male and female subjects\n",
    "    for gender_label in [\"m\", \"w\"]:\n",
    "        for i in range(1, 6):\n",
    "            folder_name = f\"{gender_label}-00{i}\"\n",
    "            for file_name in range(1, 6):\n",
    "                file_path = os.path.join(\n",
    "                    base_path, folder_name, f\"{folder_name}-{file_name:02}.pts\"\n",
    "                )\n",
    "                if os.path.exists(file_path):\n",
    "                    points = parse_pts_file(file_path)\n",
    "                    features.append(points)\n",
    "                    labels.append(\"male\" if gender_label == \"m\" else \"female\")\n",
    "\n",
    "    return features, labels\n",
    "\n",
    "\n",
    "# Set the base path to the directory containing the 'Face Database' folder\n",
    "base_path = \"Face Database\"\n",
    "\n",
    "# Call the load_data function\n",
    "features, labels = load_data(base_path)\n",
    "\n",
    "# Output the number of features and labels, and show the first set of features\n",
    "print(len(features), len(labels))\n",
    "print(features[0])"
   ]
  },
  {
   "cell_type": "markdown",
   "metadata": {},
   "source": []
  },
  {
   "cell_type": "code",
   "execution_count": 7,
   "metadata": {},
   "outputs": [
    {
     "data": {
      "text/plain": [
       "[2.9374100554777534,\n",
       " 3.206027980763504,\n",
       " 3.466323176078833,\n",
       " 2.827259684437155,\n",
       " 3.244493220578117]"
      ]
     },
     "execution_count": 7,
     "metadata": {},
     "output_type": "execute_result"
    }
   ],
   "source": [
    "# Function to calculate the eye length ratio\n",
    "def eye_length_ratio(landmarks):\n",
    "    # Eye length is the maximum of the two eye lengths\n",
    "    # Distance between points 8 (left of left eye) and 13 (right of right eye) is the facial width\n",
    "    eye_1_length = np.linalg.norm(\n",
    "        landmarks[0] - landmarks[1]\n",
    "    )  # Distance between points 1 and 2 (left eye)\n",
    "    eye_2_length = np.linalg.norm(\n",
    "        landmarks[2] - landmarks[3]\n",
    "    )  # Distance between points 3 and 4 (right eye)\n",
    "    eye_length = max(eye_1_length, eye_2_length)\n",
    "    facial_width = np.linalg.norm(\n",
    "        landmarks[7] - landmarks[12]\n",
    "    )  # Distance between points 8 and 13\n",
    "    return eye_length / facial_width\n",
    "\n",
    "\n",
    "# Calculate the eye length ratio for each feature\n",
    "eye_length_ratios = [eye_length_ratio(feature) for feature in features]\n",
    "\n",
    "# Output the eye length ratios for verification\n",
    "eye_length_ratios[:5]  # Show the first 5 ratios"
   ]
  },
  {
   "cell_type": "code",
   "execution_count": 8,
   "metadata": {},
   "outputs": [
    {
     "data": {
      "text/plain": [
       "[3.459662032380021,\n",
       " 3.413408007542167,\n",
       " 4.110876924258804,\n",
       " 3.2824947688031796,\n",
       " 3.456196893905827]"
      ]
     },
     "execution_count": 8,
     "metadata": {},
     "output_type": "execute_result"
    }
   ],
   "source": [
    "# Function to calculate the eye distance ratio\n",
    "def eye_distance_ratio(landmarks):\n",
    "    # Distance between the center of the two eyes\n",
    "    eye_1_center = (landmarks[0] + landmarks[1]) / 2  # Center of left eye\n",
    "    eye_2_center = (landmarks[2] + landmarks[3]) / 2  # Center of right eye\n",
    "    eye_distance = np.linalg.norm(eye_1_center - eye_2_center)\n",
    "\n",
    "    # Distance between points 8 (left of left eye) and 13 (right of right eye) is the facial width\n",
    "    facial_width = np.linalg.norm(\n",
    "        landmarks[7] - landmarks[12]\n",
    "    )  # Distance between points 8 and 13\n",
    "\n",
    "    return eye_distance / facial_width\n",
    "\n",
    "\n",
    "# Calculate the eye distance ratio for each feature\n",
    "eye_distance_ratios = [eye_distance_ratio(feature) for feature in features]\n",
    "\n",
    "# Output the eye distance ratios for verification\n",
    "eye_distance_ratios[:5]  # Show the first 5 ratios"
   ]
  },
  {
   "cell_type": "code",
   "execution_count": 9,
   "metadata": {},
   "outputs": [
    {
     "data": {
      "text/plain": [
       "[0.13878936213858792,\n",
       " 0.1393712965113302,\n",
       " 0.1342976291292279,\n",
       " 0.13960895630630105,\n",
       " 0.13175112617983184]"
      ]
     },
     "execution_count": 9,
     "metadata": {},
     "output_type": "execute_result"
    }
   ],
   "source": [
    "# Function to calculate the nose ratio\n",
    "def nose_ratio(landmarks):\n",
    "    # Distance between points 15 (top of nose) and 16 (bottom of nose)\n",
    "    nose_length = np.linalg.norm(\n",
    "        landmarks[14] - landmarks[15]\n",
    "    )  # Distance between points 15 and 16\n",
    "\n",
    "    # Distance between points 20 (left cheek) and 21 (right cheek) is the face width at mouth level\n",
    "    face_width_mouth_level = np.linalg.norm(\n",
    "        landmarks[19] - landmarks[20]\n",
    "    )  # Distance between points 20 and 21\n",
    "\n",
    "    return nose_length / face_width_mouth_level\n",
    "\n",
    "\n",
    "# Calculate the nose ratio for each feature\n",
    "nose_ratios = [nose_ratio(feature) for feature in features]\n",
    "\n",
    "# Output the nose ratios for verification\n",
    "nose_ratios[:5]  # Show the first 5 ratios"
   ]
  },
  {
   "cell_type": "code",
   "execution_count": 10,
   "metadata": {},
   "outputs": [
    {
     "data": {
      "text/plain": [
       "[3.3496120059564527,\n",
       " 3.3347778809969357,\n",
       " 3.6641955177385395,\n",
       " 3.5386001800093405,\n",
       " 3.7023423889135345]"
      ]
     },
     "execution_count": 10,
     "metadata": {},
     "output_type": "execute_result"
    }
   ],
   "source": [
    "# Function to calculate the lip size ratio\n",
    "def lip_size_ratio(landmarks):\n",
    "    # Distance between points 2 (left of upper lip) and 3 (right of upper lip)\n",
    "    lip_width = np.linalg.norm(\n",
    "        landmarks[1] - landmarks[2]\n",
    "    )  # Distance between points 2 and 3\n",
    "\n",
    "    # Distance between points 17 (left jaw) and 18 (right jaw) is the jaw width\n",
    "    jaw_width = np.linalg.norm(\n",
    "        landmarks[16] - landmarks[17]\n",
    "    )  # Distance between points 17 and 18\n",
    "\n",
    "    return lip_width / jaw_width\n",
    "\n",
    "\n",
    "# Calculate the lip size ratio for each feature\n",
    "lip_size_ratios = [lip_size_ratio(feature) for feature in features]\n",
    "\n",
    "# Output the lip size ratios for verification\n",
    "lip_size_ratios[:5]  # Show the first 5 ratios"
   ]
  },
  {
   "cell_type": "code",
   "execution_count": 11,
   "metadata": {},
   "outputs": [
    {
     "data": {
      "text/plain": [
       "[1.336435681381726,\n",
       " 1.0904025102698798,\n",
       " 1.2506626979202797,\n",
       " 1.2124012541297995,\n",
       " 1.1118405937957188]"
      ]
     },
     "execution_count": 11,
     "metadata": {},
     "output_type": "execute_result"
    }
   ],
   "source": [
    "# Function to calculate the lip length ratio\n",
    "def lip_length_ratio(landmarks):\n",
    "    # Distance between points 2 (left of upper lip) and 3 (right of upper lip)\n",
    "    lip_length = np.linalg.norm(\n",
    "        landmarks[1] - landmarks[2]\n",
    "    )  # Distance between points 2 and 3\n",
    "\n",
    "    # Distance between points 20 (left cheek) and 21 (right cheek) is the face width at mouth level\n",
    "    face_width_mouth_level = np.linalg.norm(\n",
    "        landmarks[19] - landmarks[20]\n",
    "    )  # Distance between points 20 and 21\n",
    "\n",
    "    return lip_length / face_width_mouth_level\n",
    "\n",
    "\n",
    "# Calculate the lip length ratio for each feature\n",
    "lip_length_ratios = [lip_length_ratio(feature) for feature in features]\n",
    "\n",
    "# Output the lip length ratios for verification\n",
    "lip_length_ratios[:5]  # Show the first 5 ratios"
   ]
  },
  {
   "cell_type": "code",
   "execution_count": 12,
   "metadata": {},
   "outputs": [
    {
     "data": {
      "text/plain": [
       "[5.580392836691517,\n",
       " 5.989274334239363,\n",
       " 6.573636980468281,\n",
       " 5.084910071855057,\n",
       " 5.9011503500357065]"
      ]
     },
     "execution_count": 12,
     "metadata": {},
     "output_type": "execute_result"
    }
   ],
   "source": [
    "# Function to calculate the eye-brow length ratio\n",
    "def eye_brow_length_ratio(landmarks):\n",
    "    # Distance between points 4 and 5, and between points 6 and 7; take the larger one\n",
    "    eye_brow_1_length = np.linalg.norm(\n",
    "        landmarks[3] - landmarks[4]\n",
    "    )  # Distance between points 4 and 5\n",
    "    eye_brow_2_length = np.linalg.norm(\n",
    "        landmarks[5] - landmarks[6]\n",
    "    )  # Distance between points 6 and 7\n",
    "    eye_brow_length = max(eye_brow_1_length, eye_brow_2_length)\n",
    "\n",
    "    # Distance between points 8 (left of left eye) and 13 (right of right eye) is the facial width\n",
    "    facial_width = np.linalg.norm(\n",
    "        landmarks[7] - landmarks[12]\n",
    "    )  # Distance between points 8 and 13\n",
    "\n",
    "    return eye_brow_length / facial_width\n",
    "\n",
    "\n",
    "# Calculate the eye-brow length ratio for each feature\n",
    "eye_brow_length_ratios = [eye_brow_length_ratio(feature) for feature in features]\n",
    "\n",
    "# Output the eye-brow length ratios for verification\n",
    "eye_brow_length_ratios[:5]  # Show the first 5 ratios"
   ]
  },
  {
   "cell_type": "code",
   "execution_count": 13,
   "metadata": {},
   "outputs": [
    {
     "data": {
      "text/plain": [
       "[1.286211246681271,\n",
       " 1.125080389035029,\n",
       " 1.2364762905449285,\n",
       " 1.0909911196678432,\n",
       " 1.101897345322658]"
      ]
     },
     "execution_count": 13,
     "metadata": {},
     "output_type": "execute_result"
    }
   ],
   "source": [
    "# Function to calculate the aggressive ratio\n",
    "def aggressive_ratio(landmarks):\n",
    "    # Distance between points 10 (left of left eyebrow) and 19 (left of mouth)\n",
    "    aggressive_distance = np.linalg.norm(\n",
    "        landmarks[9] - landmarks[18]\n",
    "    )  # Distance between points 10 and 19\n",
    "\n",
    "    # Distance between points 20 (left cheek) and 21 (right cheek) is the face width at mouth level\n",
    "    face_width_mouth_level = np.linalg.norm(\n",
    "        landmarks[19] - landmarks[20]\n",
    "    )  # Distance between points 20 and 21\n",
    "\n",
    "    return aggressive_distance / face_width_mouth_level\n",
    "\n",
    "\n",
    "# Calculate the aggressive ratio for each feature\n",
    "aggressive_ratios = [aggressive_ratio(feature) for feature in features]\n",
    "\n",
    "# Output the aggressive ratios for verification\n",
    "aggressive_ratios[:5]  # Show the first 5 ratios"
   ]
  },
  {
   "cell_type": "code",
   "execution_count": 15,
   "metadata": {},
   "outputs": [
    {
     "data": {
      "image/png": "[encoded data removed]",
      "text/plain": [
       "<Figure size 1200x800 with 1 Axes>"
      ]
     },
     "metadata": {},
     "output_type": "display_data"
    }
   ],
   "source": [
    "import matplotlib.pyplot as plt\n",
    "import seaborn as sns\n",
    "\n",
    "# Create a DataFrame for easier plotting\n",
    "import pandas as pd\n",
    "\n",
    "data = {\n",
    "    \"Eye Length Ratio\": eye_length_ratios,\n",
    "    \"Eye Distance Ratio\": eye_distance_ratios,\n",
    "    \"Nose Ratio\": nose_ratios,\n",
    "    \"Lip Size Ratio\": lip_size_ratios,\n",
    "    \"Lip Length Ratio\": lip_length_ratios,\n",
    "    \"Eye-Brow Length Ratio\": eye_brow_length_ratios,\n",
    "    \"Aggressive Ratio\": aggressive_ratios,\n",
    "    \"Gender\": labels,\n",
    "}\n",
    "df = pd.DataFrame(data)\n",
    "\n",
    "# Melt the DataFrame to long format for seaborn boxplot\n",
    "df_long = pd.melt(df, \"Gender\", var_name=\"Feature\", value_name=\"Ratio\")\n",
    "\n",
    "# Create the box plot\n",
    "plt.figure(figsize=(12, 8))\n",
    "sns.boxplot(x=\"Feature\", y=\"Ratio\", hue=\"Gender\", data=df_long)\n",
    "plt.xticks(rotation=45)\n",
    "plt.title(\"Feature Ratios by Gender\")\n",
    "plt.show()"
   ]
  },
  {
   "cell_type": "code",
   "execution_count": 16,
   "metadata": {},
   "outputs": [],
   "source": [
    "from sklearn.preprocessing import StandardScaler\n",
    "\n",
    "# Combining all feature ratios into a single array\n",
    "feature_data = np.array(\n",
    "    [\n",
    "        eye_length_ratios,\n",
    "        eye_distance_ratios,\n",
    "        nose_ratios,\n",
    "        lip_size_ratios,\n",
    "        lip_length_ratios,\n",
    "        eye_brow_length_ratios,\n",
    "        aggressive_ratios,\n",
    "    ]\n",
    ").T  # Transpose to get the correct shape\n",
    "\n",
    "# Standardize the features\n",
    "scaler = StandardScaler()\n",
    "features_scaled = scaler.fit_transform(feature_data)"
   ]
  },
  {
   "cell_type": "code",
   "execution_count": 17,
   "metadata": {},
   "outputs": [],
   "source": [
    "from sklearn.model_selection import train_test_split\n",
    "\n",
    "# Convert labels to numeric (male: 0, female: 1)\n",
    "numeric_labels = [0 if label == \"male\" else 1 for label in labels]\n",
    "\n",
    "# Splitting the dataset into training and testing sets\n",
    "X_train, X_test, y_train, y_test = train_test_split(\n",
    "    features_scaled, numeric_labels, test_size=0.3, random_state=42\n",
    ")"
   ]
  },
  {
   "cell_type": "code",
   "execution_count": 19,
   "metadata": {},
   "outputs": [
    {
     "data": {
      "text/html": [
       "<style>#sk-container-id-1 {color: black;}#sk-container-id-1 pre{padding: 0;}#sk-container-id-1 div.sk-toggleable {background-color: white;}#sk-container-id-1 label.sk-toggleable__label {cursor: pointer;display: block;width: 100%;margin-bottom: 0;padding: 0.3em;box-sizing: border-box;text-align: center;}#sk-container-id-1 label.sk-toggleable__label-arrow:before {content: \"▸\";float: left;margin-right: 0.25em;color: #696969;}#sk-container-id-1 label.sk-toggleable__label-arrow:hover:before {color: black;}#sk-container-id-1 div.sk-estimator:hover label.sk-toggleable__label-arrow:before {color: black;}#sk-container-id-1 div.sk-toggleable__content {max-height: 0;max-width: 0;overflow: hidden;text-align: left;background-color: #f0f8ff;}#sk-container-id-1 div.sk-toggleable__content pre {margin: 0.2em;color: black;border-radius: 0.25em;background-color: #f0f8ff;}#sk-container-id-1 input.sk-toggleable__control:checked~div.sk-toggleable__content {max-height: 200px;max-width: 100%;overflow: auto;}#sk-container-id-1 input.sk-toggleable__control:checked~label.sk-toggleable__label-arrow:before {content: \"▾\";}#sk-container-id-1 div.sk-estimator input.sk-toggleable__control:checked~label.sk-toggleable__label {background-color: #d4ebff;}#sk-container-id-1 div.sk-label input.sk-toggleable__control:checked~label.sk-toggleable__label {background-color: #d4ebff;}#sk-container-id-1 input.sk-hidden--visually {border: 0;clip: rect(1px 1px 1px 1px);clip: rect(1px, 1px, 1px, 1px);height: 1px;margin: -1px;overflow: hidden;padding: 0;position: absolute;width: 1px;}#sk-container-id-1 div.sk-estimator {font-family: monospace;background-color: #f0f8ff;border: 1px dotted black;border-radius: 0.25em;box-sizing: border-box;margin-bottom: 0.5em;}#sk-container-id-1 div.sk-estimator:hover {background-color: #d4ebff;}#sk-container-id-1 div.sk-parallel-item::after {content: \"\";width: 100%;border-bottom: 1px solid gray;flex-grow: 1;}#sk-container-id-1 div.sk-label:hover label.sk-toggleable__label {background-color: #d4ebff;}#sk-container-id-1 div.sk-serial::before {content: \"\";position: absolute;border-left: 1px solid gray;box-sizing: border-box;top: 0;bottom: 0;left: 50%;z-index: 0;}#sk-container-id-1 div.sk-serial {display: flex;flex-direction: column;align-items: center;background-color: white;padding-right: 0.2em;padding-left: 0.2em;position: relative;}#sk-container-id-1 div.sk-item {position: relative;z-index: 1;}#sk-container-id-1 div.sk-parallel {display: flex;align-items: stretch;justify-content: center;background-color: white;position: relative;}#sk-container-id-1 div.sk-item::before, #sk-container-id-1 div.sk-parallel-item::before {content: \"\";position: absolute;border-left: 1px solid gray;box-sizing: border-box;top: 0;bottom: 0;left: 50%;z-index: -1;}#sk-container-id-1 div.sk-parallel-item {display: flex;flex-direction: column;z-index: 1;position: relative;background-color: white;}#sk-container-id-1 div.sk-parallel-item:first-child::after {align-self: flex-end;width: 50%;}#sk-container-id-1 div.sk-parallel-item:last-child::after {align-self: flex-start;width: 50%;}#sk-container-id-1 div.sk-parallel-item:only-child::after {width: 0;}#sk-container-id-1 div.sk-dashed-wrapped {border: 1px dashed gray;margin: 0 0.4em 0.5em 0.4em;box-sizing: border-box;padding-bottom: 0.4em;background-color: white;}#sk-container-id-1 div.sk-label label {font-family: monospace;font-weight: bold;display: inline-block;line-height: 1.2em;}#sk-container-id-1 div.sk-label-container {text-align: center;}#sk-container-id-1 div.sk-container {/* jupyter's `normalize.less` sets `[hidden] { display: none; }` but bootstrap.min.css set `[hidden] { display: none !important; }` so we also need the `!important` here to be able to override the default hidden behavior on the sphinx rendered scikit-learn.org. See: https://github.com/scikit-learn/scikit-learn/issues/21755 */display: inline-block !important;position: relative;}#sk-container-id-1 div.sk-text-repr-fallback {display: none;}</style><div id=\"sk-container-id-1\" class=\"sk-top-container\"><div class=\"sk-text-repr-fallback\"><pre>KNeighborsClassifier()</pre><b>In a Jupyter environment, please rerun this cell to show the HTML representation or trust the notebook. <br />On GitHub, the HTML representation is unable to render, please try loading this page with nbviewer.org.</b></div><div class=\"sk-container\" hidden><div class=\"sk-item\"><div class=\"sk-estimator sk-toggleable\"><input class=\"sk-toggleable__control sk-hidden--visually\" id=\"sk-estimator-id-1\" type=\"checkbox\" checked><label for=\"sk-estimator-id-1\" class=\"sk-toggleable__label sk-toggleable__label-arrow\">KNeighborsClassifier</label><div class=\"sk-toggleable__content\"><pre>KNeighborsClassifier()</pre></div></div></div></div></div>"
      ],
      "text/plain": [
       "KNeighborsClassifier()"
      ]
     },
     "execution_count": 19,
     "metadata": {},
     "output_type": "execute_result"
    }
   ],
   "source": [
    "from sklearn.neighbors import KNeighborsClassifier\n",
    "\n",
    "# K-Nearest Neighbors Classifier\n",
    "knn_classifier = KNeighborsClassifier()\n",
    "knn_classifier.fit(X_train, y_train)"
   ]
  },
  {
   "cell_type": "code",
   "execution_count": 21,
   "metadata": {},
   "outputs": [
    {
     "data": {
      "text/html": [
       "<style>#sk-container-id-2 {color: black;}#sk-container-id-2 pre{padding: 0;}#sk-container-id-2 div.sk-toggleable {background-color: white;}#sk-container-id-2 label.sk-toggleable__label {cursor: pointer;display: block;width: 100%;margin-bottom: 0;padding: 0.3em;box-sizing: border-box;text-align: center;}#sk-container-id-2 label.sk-toggleable__label-arrow:before {content: \"▸\";float: left;margin-right: 0.25em;color: #696969;}#sk-container-id-2 label.sk-toggleable__label-arrow:hover:before {color: black;}#sk-container-id-2 div.sk-estimator:hover label.sk-toggleable__label-arrow:before {color: black;}#sk-container-id-2 div.sk-toggleable__content {max-height: 0;max-width: 0;overflow: hidden;text-align: left;background-color: #f0f8ff;}#sk-container-id-2 div.sk-toggleable__content pre {margin: 0.2em;color: black;border-radius: 0.25em;background-color: #f0f8ff;}#sk-container-id-2 input.sk-toggleable__control:checked~div.sk-toggleable__content {max-height: 200px;max-width: 100%;overflow: auto;}#sk-container-id-2 input.sk-toggleable__control:checked~label.sk-toggleable__label-arrow:before {content: \"▾\";}#sk-container-id-2 div.sk-estimator input.sk-toggleable__control:checked~label.sk-toggleable__label {background-color: #d4ebff;}#sk-container-id-2 div.sk-label input.sk-toggleable__control:checked~label.sk-toggleable__label {background-color: #d4ebff;}#sk-container-id-2 input.sk-hidden--visually {border: 0;clip: rect(1px 1px 1px 1px);clip: rect(1px, 1px, 1px, 1px);height: 1px;margin: -1px;overflow: hidden;padding: 0;position: absolute;width: 1px;}#sk-container-id-2 div.sk-estimator {font-family: monospace;background-color: #f0f8ff;border: 1px dotted black;border-radius: 0.25em;box-sizing: border-box;margin-bottom: 0.5em;}#sk-container-id-2 div.sk-estimator:hover {background-color: #d4ebff;}#sk-container-id-2 div.sk-parallel-item::after {content: \"\";width: 100%;border-bottom: 1px solid gray;flex-grow: 1;}#sk-container-id-2 div.sk-label:hover label.sk-toggleable__label {background-color: #d4ebff;}#sk-container-id-2 div.sk-serial::before {content: \"\";position: absolute;border-left: 1px solid gray;box-sizing: border-box;top: 0;bottom: 0;left: 50%;z-index: 0;}#sk-container-id-2 div.sk-serial {display: flex;flex-direction: column;align-items: center;background-color: white;padding-right: 0.2em;padding-left: 0.2em;position: relative;}#sk-container-id-2 div.sk-item {position: relative;z-index: 1;}#sk-container-id-2 div.sk-parallel {display: flex;align-items: stretch;justify-content: center;background-color: white;position: relative;}#sk-container-id-2 div.sk-item::before, #sk-container-id-2 div.sk-parallel-item::before {content: \"\";position: absolute;border-left: 1px solid gray;box-sizing: border-box;top: 0;bottom: 0;left: 50%;z-index: -1;}#sk-container-id-2 div.sk-parallel-item {display: flex;flex-direction: column;z-index: 1;position: relative;background-color: white;}#sk-container-id-2 div.sk-parallel-item:first-child::after {align-self: flex-end;width: 50%;}#sk-container-id-2 div.sk-parallel-item:last-child::after {align-self: flex-start;width: 50%;}#sk-container-id-2 div.sk-parallel-item:only-child::after {width: 0;}#sk-container-id-2 div.sk-dashed-wrapped {border: 1px dashed gray;margin: 0 0.4em 0.5em 0.4em;box-sizing: border-box;padding-bottom: 0.4em;background-color: white;}#sk-container-id-2 div.sk-label label {font-family: monospace;font-weight: bold;display: inline-block;line-height: 1.2em;}#sk-container-id-2 div.sk-label-container {text-align: center;}#sk-container-id-2 div.sk-container {/* jupyter's `normalize.less` sets `[hidden] { display: none; }` but bootstrap.min.css set `[hidden] { display: none !important; }` so we also need the `!important` here to be able to override the default hidden behavior on the sphinx rendered scikit-learn.org. See: https://github.com/scikit-learn/scikit-learn/issues/21755 */display: inline-block !important;position: relative;}#sk-container-id-2 div.sk-text-repr-fallback {display: none;}</style><div id=\"sk-container-id-2\" class=\"sk-top-container\"><div class=\"sk-text-repr-fallback\"><pre>DecisionTreeClassifier()</pre><b>In a Jupyter environment, please rerun this cell to show the HTML representation or trust the notebook. <br />On GitHub, the HTML representation is unable to render, please try loading this page with nbviewer.org.</b></div><div class=\"sk-container\" hidden><div class=\"sk-item\"><div class=\"sk-estimator sk-toggleable\"><input class=\"sk-toggleable__control sk-hidden--visually\" id=\"sk-estimator-id-2\" type=\"checkbox\" checked><label for=\"sk-estimator-id-2\" class=\"sk-toggleable__label sk-toggleable__label-arrow\">DecisionTreeClassifier</label><div class=\"sk-toggleable__content\"><pre>DecisionTreeClassifier()</pre></div></div></div></div></div>"
      ],
      "text/plain": [
       "DecisionTreeClassifier()"
      ]
     },
     "execution_count": 21,
     "metadata": {},
     "output_type": "execute_result"
    }
   ],
   "source": [
    "from sklearn.tree import DecisionTreeClassifier\n",
    "\n",
    "# Decision Tree Classifier\n",
    "dt_classifier = DecisionTreeClassifier()\n",
    "dt_classifier.fit(X_train, y_train)"
   ]
  },
  {
   "cell_type": "code",
   "execution_count": 22,
   "metadata": {},
   "outputs": [
    {
     "name": "stdout",
     "output_type": "stream",
     "text": [
      "KNN - Accuracy: 0.8333333333333334, Precision: 0.7142857142857143, Recall: 1.0\n",
      "Decision Tree - Accuracy: 0.9166666666666666, Precision: 1.0, Recall: 0.8\n"
     ]
    }
   ],
   "source": [
    "from sklearn.metrics import accuracy_score, precision_score, recall_score\n",
    "\n",
    "# Evaluate KNN\n",
    "knn_predictions = knn_classifier.predict(X_test)\n",
    "knn_accuracy = accuracy_score(y_test, knn_predictions)\n",
    "knn_precision = precision_score(y_test, knn_predictions)\n",
    "knn_recall = recall_score(y_test, knn_predictions)\n",
    "\n",
    "# Evaluate Decision Tree\n",
    "dt_predictions = dt_classifier.predict(X_test)\n",
    "dt_accuracy = accuracy_score(y_test, dt_predictions)\n",
    "dt_precision = precision_score(y_test, dt_predictions)\n",
    "dt_recall = recall_score(y_test, dt_predictions)\n",
    "\n",
    "# Print the evaluation metrics\n",
    "print(\n",
    "    f\"KNN - Accuracy: {knn_accuracy}, Precision: {knn_precision}, Recall: {knn_recall}\"\n",
    ")\n",
    "print(\n",
    "    f\"Decision Tree - Accuracy: {dt_accuracy}, Precision: {dt_precision}, Recall: {dt_recall}\"\n",
    ")"
   ]
  },
  {
   "cell_type": "markdown",
   "metadata": {},
   "source": [
    "# Gender Classification from Face Images\n",
    "\n",
    "## Project Overview\n",
    "This project focuses on the classification of gender from facial images using machine learning techniques. The primary goal is to identify whether a given face image is male or female based on specific facial features extracted from the images. We employed two different classifiers for this task: the K-Nearest Neighbors (KNN) and Decision Tree classifiers. \n",
    "\n",
    "## Methodology\n",
    "The approach involved several key steps:\n",
    "\n",
    "1. **Feature Extraction**: Extracted seven distinct features from the facial landmarks, including Eye Length Ratio, Eye Distance Ratio, Nose Ratio, Lip Size Ratio, Lip Length Ratio, Eye-Brow Length Ratio, and Aggressive Ratio. These features were chosen based on their potential to differentiate between male and female facial structures.\n",
    "\n",
    "2. **Data Preprocessing**: Standardized the extracted features to ensure that they contribute equally to the model training process. \n",
    "\n",
    "3. **Data Splitting**: Divided the dataset into training and testing sets, following the standard practice of a 70-30 split. \n",
    "\n",
    "4. **Model Training**: Trained two models, K-Nearest Neighbors and Decision Tree, using the training set. \n",
    "\n",
    "5. **Model Evaluation**: Evaluated both models on the testing set using metrics like accuracy, precision, and recall.\n",
    "\n",
    "## Results\n",
    "The evaluation of the models yielded the following results:\n",
    "\n",
    "- **K-Nearest Neighbors Classifier**:\n",
    "  - Accuracy: 83.33%\n",
    "  - Precision: 71.43%\n",
    "  - Recall: 100%\n",
    "  \n",
    "- **Decision Tree Classifier**:\n",
    "  - Accuracy: 91.67%\n",
    "  - Precision: 100%\n",
    "  - Recall: 80%\n",
    "\n",
    "The Decision Tree model exhibited higher accuracy and precision, while the KNN model showed a higher recall.\n",
    "\n",
    "## Conclusion\n",
    "The results indicate that both classifiers are effective in gender classification, with the Decision Tree classifier slightly outperforming the KNN in terms of accuracy and precision. However, the KNN classifier demonstrates a perfect recall rate, making it the more reliable model in scenarios where missing a female classification is critical.\n",
    "\n",
    "These findings suggest that facial feature-based classification can be a viable approach for gender identification. However, the choice of model may depend on the specific requirements of the application, such as whether precision or recall is more important.\n",
    "\n",
    "Future work could explore the incorporation of additional features, the use of more advanced machine learning algorithms, or the application of deep learning techniques for potentially enhanced performance. Also, testing the models on a more diverse and extensive dataset would provide more robust validation of their effectiveness.\n"
   ]
  }
 ],
 "metadata": {
  "kernelspec": {
   "display_name": "Python 3",
   "language": "python",
   "name": "python3"
  },
  "language_info": {
   "codemirror_mode": {
    "name": "ipython",
    "version": 3
   },
   "file_extension": ".py",
   "mimetype": "text/x-python",
   "name": "python",
   "nbconvert_exporter": "python",
   "pygments_lexer": "ipython3",
   "version": "3.11.5"
  }
 },
 "nbformat": 4,
 "nbformat_minor": 2
}
